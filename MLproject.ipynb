{
  "nbformat": 4,
  "nbformat_minor": 0,
  "metadata": {
    "colab": {
      "provenance": []
    },
    "kernelspec": {
      "name": "python3",
      "display_name": "Python 3"
    },
    "language_info": {
      "name": "python"
    }
  },
  "cells": [
    {
      "cell_type": "code",
      "execution_count": null,
      "metadata": {
        "id": "8qXbmXpzFjG7"
      },
      "outputs": [],
      "source": [
        "import numpy as np\n",
        "import tensorflow as tf\n",
        "from tensorflow.keras.datasets import cifar10\n",
        "from sklearn.model_selection import train_test_split\n",
        "from sklearn.svm import SVC\n",
        "from sklearn.ensemble import RandomForestClassifier\n",
        "from sklearn.linear_model import LogisticRegression\n",
        "from sklearn.metrics import accuracy_score, f1_score, precision_score, recall_score\n",
        "from skimage.feature import hog\n"
      ]
    },
    {
      "cell_type": "code",
      "source": [
        "# Loading the data\n",
        "(X_tr, y_tr), (X_te, y_te) = cifar10.load_data()\n"
      ],
      "metadata": {
        "id": "Y-CwwJ4j9aAj"
      },
      "execution_count": null,
      "outputs": []
    },
    {
      "cell_type": "code",
      "source": [
        "# Filter out cats,dogs based on classes\n",
        "train_mask = (y_tr == 3) | (y_tr == 5)\n",
        "X_tr, y_tr = X_tr[train_mask.squeeze()], y_tr[train_mask.squeeze()]\n"
      ],
      "metadata": {
        "id": "ZYpcjOwU9fTU"
      },
      "execution_count": null,
      "outputs": []
    },
    {
      "cell_type": "code",
      "source": [
        "test_mask = (y_te == 3) | (y_te == 5)\n",
        "X_te, y_te = X_te[test_mask.squeeze()], y_te[test_mask.squeeze()]\n"
      ],
      "metadata": {
        "id": "k0_HIFHA9lRv"
      },
      "execution_count": null,
      "outputs": []
    },
    {
      "cell_type": "code",
      "source": [
        "#  labeling 0 for cats, 1 for dogs\n",
        "y_tr = (y_tr == 5).astype(int)\n",
        "y_te = (y_te == 5).astype(int)\n"
      ],
      "metadata": {
        "id": "VnAIa6sq9oLo"
      },
      "execution_count": null,
      "outputs": []
    },
    {
      "cell_type": "code",
      "source": [
        "# Normalizing the  data\n",
        "X_tr = X_tr.astype(\"float32\") / 255\n",
        "X_te = X_te.astype(\"float32\") / 255\n"
      ],
      "metadata": {
        "id": "K5Bdfoge9qe9"
      },
      "execution_count": null,
      "outputs": []
    },
    {
      "cell_type": "code",
      "source": [
        "#  scratch CNN model \n",
        "model = tf.keras.Sequential([\n",
        "    tf.keras.layers.Conv2D(32, (3, 3), activation='relu', input_shape=(32, 32, 3)),\n",
        "    tf.keras.layers.MaxPooling2D(pool_size=(2, 2)),\n",
        "    tf.keras.layers.Conv2D(64, (3, 3), activation='relu'),\n",
        "    tf.keras.layers.MaxPooling2D(pool_size=(2, 2)),\n",
        "    tf.keras.layers.Conv2D(128, (3, 3), activation='relu'),\n",
        "    tf.keras.layers.MaxPooling2D(pool_size=(2, 2)),\n",
        "    tf.keras.layers.Flatten(),\n",
        "    tf.keras.layers.Dense(256, activation='relu'),\n",
        "    tf.keras.layers.Dropout(0.5),\n",
        "    tf.keras.layers.Dense(1, activation='sigmoid')\n",
        "])\n"
      ],
      "metadata": {
        "id": "h4Al0z989tQu"
      },
      "execution_count": null,
      "outputs": []
    },
    {
      "cell_type": "code",
      "source": [
        "# Compiling the model\n",
        "model.compile(optimizer='adam', loss='binary_crossentropy', metrics=['accuracy'])\n"
      ],
      "metadata": {
        "id": "jRcPoDZN9wOC"
      },
      "execution_count": null,
      "outputs": []
    },
    {
      "cell_type": "code",
      "source": [
        "# Training the model\n",
        "\n",
        "model.fit(X_tr, y_tr, epochs=20, validation_data=(X_te, y_te))\n",
        "\n"
      ],
      "metadata": {
        "colab": {
          "base_uri": "https://localhost:8080/"
        },
        "id": "Hx30GxwY9zM6",
        "outputId": "7dc7fc4a-2e80-4474-a802-b434c822605b"
      },
      "execution_count": null,
      "outputs": [
        {
          "output_type": "stream",
          "name": "stdout",
          "text": [
            "Epoch 1/20\n",
            "313/313 [==============================] - 30s 81ms/step - loss: 0.6790 - accuracy: 0.5587 - val_loss: 0.6272 - val_accuracy: 0.6505\n",
            "Epoch 2/20\n",
            "313/313 [==============================] - 17s 53ms/step - loss: 0.6042 - accuracy: 0.6731 - val_loss: 0.5724 - val_accuracy: 0.6970\n",
            "Epoch 3/20\n",
            "313/313 [==============================] - 17s 56ms/step - loss: 0.5468 - accuracy: 0.7236 - val_loss: 0.5314 - val_accuracy: 0.7310\n",
            "Epoch 4/20\n",
            "313/313 [==============================] - 19s 61ms/step - loss: 0.5075 - accuracy: 0.7489 - val_loss: 0.5006 - val_accuracy: 0.7555\n",
            "Epoch 5/20\n",
            "313/313 [==============================] - 17s 53ms/step - loss: 0.4624 - accuracy: 0.7778 - val_loss: 0.5137 - val_accuracy: 0.7565\n",
            "Epoch 6/20\n",
            "313/313 [==============================] - 17s 55ms/step - loss: 0.4314 - accuracy: 0.7979 - val_loss: 0.4698 - val_accuracy: 0.7745\n",
            "Epoch 7/20\n",
            "313/313 [==============================] - 18s 59ms/step - loss: 0.3877 - accuracy: 0.8264 - val_loss: 0.4784 - val_accuracy: 0.7830\n",
            "Epoch 8/20\n",
            "313/313 [==============================] - 17s 55ms/step - loss: 0.3365 - accuracy: 0.8512 - val_loss: 0.5011 - val_accuracy: 0.7685\n",
            "Epoch 9/20\n",
            "313/313 [==============================] - 17s 54ms/step - loss: 0.2964 - accuracy: 0.8709 - val_loss: 0.5048 - val_accuracy: 0.7660\n",
            "Epoch 10/20\n",
            "313/313 [==============================] - 25s 79ms/step - loss: 0.2480 - accuracy: 0.8976 - val_loss: 0.5866 - val_accuracy: 0.7615\n",
            "Epoch 11/20\n",
            "313/313 [==============================] - 18s 59ms/step - loss: 0.2034 - accuracy: 0.9181 - val_loss: 0.6233 - val_accuracy: 0.7685\n",
            "Epoch 12/20\n",
            "313/313 [==============================] - 23s 72ms/step - loss: 0.1524 - accuracy: 0.9398 - val_loss: 0.6913 - val_accuracy: 0.7485\n",
            "Epoch 13/20\n",
            "313/313 [==============================] - 17s 53ms/step - loss: 0.1417 - accuracy: 0.9447 - val_loss: 0.7060 - val_accuracy: 0.7730\n",
            "Epoch 14/20\n",
            "313/313 [==============================] - 18s 57ms/step - loss: 0.1083 - accuracy: 0.9578 - val_loss: 0.7397 - val_accuracy: 0.7620\n",
            "Epoch 15/20\n",
            "313/313 [==============================] - 17s 54ms/step - loss: 0.0851 - accuracy: 0.9671 - val_loss: 0.9627 - val_accuracy: 0.7525\n",
            "Epoch 16/20\n",
            "313/313 [==============================] - 17s 54ms/step - loss: 0.0793 - accuracy: 0.9719 - val_loss: 1.0008 - val_accuracy: 0.7585\n",
            "Epoch 17/20\n",
            "313/313 [==============================] - 18s 58ms/step - loss: 0.0700 - accuracy: 0.9745 - val_loss: 1.0494 - val_accuracy: 0.7540\n",
            "Epoch 18/20\n",
            "313/313 [==============================] - 16s 52ms/step - loss: 0.0662 - accuracy: 0.9732 - val_loss: 1.1139 - val_accuracy: 0.7580\n",
            "Epoch 19/20\n",
            "313/313 [==============================] - 16s 53ms/step - loss: 0.0664 - accuracy: 0.9742 - val_loss: 1.0662 - val_accuracy: 0.7665\n",
            "Epoch 20/20\n",
            "313/313 [==============================] - 17s 54ms/step - loss: 0.0483 - accuracy: 0.9829 - val_loss: 1.1612 - val_accuracy: 0.7580\n"
          ]
        },
        {
          "output_type": "execute_result",
          "data": {
            "text/plain": [
              "<keras.callbacks.History at 0x7f3533941060>"
            ]
          },
          "metadata": {},
          "execution_count": 9
        }
      ]
    },
    {
      "cell_type": "code",
      "source": [
        "# Evaluation of the model\n",
        "y_pred_cnn = (model.predict(X_te) > 0.5).astype(\"int32\")\n",
        "accuracy_cnn = accuracy_score(y_te, y_pred_cnn)\n",
        "f1_cnn = f1_score(y_te, y_pred_cnn)\n",
        "precision_cnn = precision_score(y_te, y_pred_cnn)\n",
        "recall_cnn = recall_score(y_te, y_pred_cnn)\n"
      ],
      "metadata": {
        "colab": {
          "base_uri": "https://localhost:8080/"
        },
        "id": "iUWhpZgU910x",
        "outputId": "78f81810-05c6-429e-efe5-4fb63dc13653"
      },
      "execution_count": null,
      "outputs": [
        {
          "output_type": "stream",
          "name": "stdout",
          "text": [
            "63/63 [==============================] - 1s 14ms/step\n"
          ]
        }
      ]
    },
    {
      "cell_type": "code",
      "source": [
        "\n",
        "# Flattening images for the training \n",
        "X_tr_flat = X_tr.reshape((X_tr.shape[0], -1))\n",
        "\n",
        "# Flattening images for the testing\n",
        "X_te_flat = X_te.reshape((X_te.shape[0], -1))\n"
      ],
      "metadata": {
        "id": "G5shRAEa95WZ"
      },
      "execution_count": null,
      "outputs": []
    },
    {
      "cell_type": "code",
      "source": [
        "# Training and evaluating  SVM model-1\n",
        "svm = SVC(kernel='linear')\n",
        "svm.fit(X_tr_flat, y_tr.ravel())\n",
        "y_pred_svm = svm.predict(X_te_flat)\n",
        "accuracy_svm = accuracy_score(y_te, y_pred_svm)\n",
        "f1_svm = f1_score(y_te, y_pred_svm)\n",
        "precision_svm = precision_score(y_te, y_pred_svm)\n",
        "recall_svm = recall_score(y_te, y_pred_svm)"
      ],
      "metadata": {
        "id": "u--sqlSeNkx-"
      },
      "execution_count": null,
      "outputs": []
    },
    {
      "cell_type": "code",
      "source": [
        "# Training and evaluating  RF model-2\n",
        "rf = RandomForestClassifier(n_estimators=100)\n",
        "rf.fit(X_tr_flat, y_tr.ravel())\n",
        "y_pred_rf = rf.predict(X_te_flat)\n",
        "accuracy_rf = accuracy_score(y_te, y_pred_rf)\n",
        "f1_rf = f1_score(y_te, y_pred_rf)\n",
        "precision_rf = precision_score(y_te, y_pred_rf)\n",
        "recall_rf = recall_score(y_te, y_pred_rf)\n",
        "\n"
      ],
      "metadata": {
        "id": "U3s3976KNoAy"
      },
      "execution_count": null,
      "outputs": []
    },
    {
      "cell_type": "code",
      "source": [
        "# Training and evaluating LR model-3\n",
        "lr = LogisticRegression(max_iter=500)\n",
        "lr.fit(X_tr_flat, y_tr.ravel())\n",
        "y_pred_lr = lr.predict(X_te_flat)\n",
        "accuracy_lr = accuracy_score(y_te, y_pred_lr)\n",
        "f1_lr = f1_score(y_te, y_pred_lr)\n",
        "precision_lr = precision_score(y_te, y_pred_lr)\n",
        "recall_lr = recall_score(y_te, y_pred_lr)\n",
        "\n"
      ],
      "metadata": {
        "colab": {
          "base_uri": "https://localhost:8080/"
        },
        "id": "b7Iv9EeZNqt4",
        "outputId": "08c7f79a-6f1f-435d-d248-b14d878c8cb3"
      },
      "execution_count": null,
      "outputs": [
        {
          "output_type": "stream",
          "name": "stderr",
          "text": [
            "/usr/local/lib/python3.10/dist-packages/sklearn/linear_model/_logistic.py:458: ConvergenceWarning: lbfgs failed to converge (status=1):\n",
            "STOP: TOTAL NO. of ITERATIONS REACHED LIMIT.\n",
            "\n",
            "Increase the number of iterations (max_iter) or scale the data as shown in:\n",
            "    https://scikit-learn.org/stable/modules/preprocessing.html\n",
            "Please also refer to the documentation for alternative solver options:\n",
            "    https://scikit-learn.org/stable/modules/linear_model.html#logistic-regression\n",
            "  n_iter_i = _check_optimize_result(\n"
          ]
        }
      ]
    },
    {
      "cell_type": "code",
      "source": [
        "print(\"CNN:\")\n",
        "print(\"Accuracy: \", accuracy_cnn)\n",
        "print(\"F1 Score: \", f1_cnn)\n",
        "print(\"Precision: \", precision_cnn)\n",
        "print(\"Recall: \", recall_cnn)\n",
        "print(\"\\nSVM:\")\n",
        "print(\"Accuracy: \", accuracy_svm)\n",
        "print(\"F1 Score: \", f1_svm)\n",
        "print(\"Precision: \", precision_svm)\n",
        "print(\"Recall: \", recall_svm)\n",
        "print(\"\\nRF:\")\n",
        "print(\"Accuracy: \", accuracy_rf)\n",
        "print(\"F1 Score: \", f1_rf)\n",
        "print(\"Precision: \", precision_rf)\n",
        "print(\"Recall: \", recall_rf)\n",
        "print(\"\\nLR:\")\n",
        "print(\"Accuracy: \", accuracy_lr)\n",
        "print(\"F1 Score: \", f1_lr)\n",
        "print(\"Precision: \", precision_lr)\n",
        "print(\"Recall: \", recall_lr)"
      ],
      "metadata": {
        "colab": {
          "base_uri": "https://localhost:8080/"
        },
        "id": "yNjRfnYwNtE6",
        "outputId": "d004dc74-d624-4ddf-aa43-bfe84b65d391"
      },
      "execution_count": null,
      "outputs": [
        {
          "output_type": "stream",
          "name": "stdout",
          "text": [
            "CNN:\n",
            "Accuracy:  0.758\n",
            "F1 Score:  0.7727699530516432\n",
            "Precision:  0.7283185840707964\n",
            "Recall:  0.823\n",
            "\n",
            "SVM:\n",
            "Accuracy:  0.5835\n",
            "F1 Score:  0.5841238142785821\n",
            "Precision:  0.5832502492522432\n",
            "Recall:  0.585\n",
            "\n",
            "RF:\n",
            "Accuracy:  0.6685\n",
            "F1 Score:  0.6537859007832897\n",
            "Precision:  0.6841530054644809\n",
            "Recall:  0.626\n",
            "\n",
            "LR:\n",
            "Accuracy:  0.575\n",
            "F1 Score:  0.5804540967423494\n",
            "Precision:  0.5730994152046783\n",
            "Recall:  0.588\n"
          ]
        }
      ]
    }
  ]
}